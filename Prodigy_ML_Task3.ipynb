{
 "cells": [
  {
   "cell_type": "code",
   "execution_count": 1,
   "id": "7ed7d43f",
   "metadata": {},
   "outputs": [],
   "source": [
    "import numpy as np\n",
    "import cv2\n",
    "from sklearn import svm\n",
    "from sklearn.model_selection import train_test_split\n",
    "from sklearn.metrics import accuracy_score\n",
    "import glob"
   ]
  },
  {
   "cell_type": "code",
   "execution_count": 2,
   "id": "41bed860",
   "metadata": {},
   "outputs": [],
   "source": [
    "def extract_features(image_path):\n",
    "    image = cv2.imread(image_path)\n",
    "    resized_image = cv2.resize(image, (64, 64))\n",
    "    flattened_image = resized_image.flatten() \n",
    "    return flattened_image"
   ]
  },
  {
   "cell_type": "code",
   "execution_count": 3,
   "id": "565effc3",
   "metadata": {},
   "outputs": [],
   "source": [
    "cat_images = glob.glob('Downloads/cat/cat*.jpg')  \n",
    "dog_images = glob.glob('Downloads/dog/dog*.jpg') \n"
   ]
  },
  {
   "cell_type": "code",
   "execution_count": 4,
   "id": "9819c6ad",
   "metadata": {},
   "outputs": [],
   "source": [
    "labels = [0] * len(cat_images) + [1] * len(dog_images)"
   ]
  },
  {
   "cell_type": "code",
   "execution_count": 5,
   "id": "e03c38e4",
   "metadata": {},
   "outputs": [],
   "source": [
    "all_images = cat_images + dog_images"
   ]
  },
  {
   "cell_type": "code",
   "execution_count": 6,
   "id": "5b1c94be",
   "metadata": {},
   "outputs": [],
   "source": [
    "X = [extract_features(image) for image in all_images]"
   ]
  },
  {
   "cell_type": "code",
   "execution_count": 7,
   "id": "4671451f",
   "metadata": {},
   "outputs": [],
   "source": [
    "X_train, X_test, y_train, y_test = train_test_split(X, labels, test_size=0.2, random_state=42)"
   ]
  },
  {
   "cell_type": "code",
   "execution_count": 8,
   "id": "7fa391ed",
   "metadata": {},
   "outputs": [],
   "source": [
    "svm_model = svm.SVC(kernel='linear')"
   ]
  },
  {
   "cell_type": "code",
   "execution_count": 9,
   "id": "f879bb3a",
   "metadata": {},
   "outputs": [
    {
     "data": {
      "text/plain": [
       "SVC(kernel='linear')"
      ]
     },
     "execution_count": 9,
     "metadata": {},
     "output_type": "execute_result"
    }
   ],
   "source": [
    "svm_model.fit(X_train, y_train)"
   ]
  },
  {
   "cell_type": "code",
   "execution_count": 10,
   "id": "b83333ad",
   "metadata": {},
   "outputs": [],
   "source": [
    "predictions = svm_model.predict(X_test)"
   ]
  },
  {
   "cell_type": "code",
   "execution_count": 11,
   "id": "62774992",
   "metadata": {},
   "outputs": [
    {
     "name": "stdout",
     "output_type": "stream",
     "text": [
      "Accuracy on Kaggle Dataset: 53.99%\n"
     ]
    }
   ],
   "source": [
    "accuracy = accuracy_score(y_test, predictions)\n",
    "print(f\"Accuracy on Kaggle Dataset: {accuracy * 100:.2f}%\")"
   ]
  },
  {
   "cell_type": "code",
   "execution_count": null,
   "id": "6c3d87b5",
   "metadata": {},
   "outputs": [],
   "source": []
  }
 ],
 "metadata": {
  "kernelspec": {
   "display_name": "Python 3 (ipykernel)",
   "language": "python",
   "name": "python3"
  },
  "language_info": {
   "codemirror_mode": {
    "name": "ipython",
    "version": 3
   },
   "file_extension": ".py",
   "mimetype": "text/x-python",
   "name": "python",
   "nbconvert_exporter": "python",
   "pygments_lexer": "ipython3",
   "version": "3.9.13"
  }
 },
 "nbformat": 4,
 "nbformat_minor": 5
}
